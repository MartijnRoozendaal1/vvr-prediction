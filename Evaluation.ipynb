{
  "nbformat": 4,
  "nbformat_minor": 0,
  "metadata": {
    "colab": {
      "provenance": [],
      "authorship_tag": "ABX9TyPRJWKoUKhPaPtLp4HwWtjV",
      "include_colab_link": true
    },
    "kernelspec": {
      "name": "python3",
      "display_name": "Python 3"
    },
    "language_info": {
      "name": "python"
    }
  },
  "cells": [
    {
      "cell_type": "markdown",
      "metadata": {
        "id": "view-in-github",
        "colab_type": "text"
      },
      "source": [
        "<a href=\"https://colab.research.google.com/github/MartijnRoozendaal1/vvr-prediction/blob/main/Evaluation.ipynb\" target=\"_parent\"><img src=\"https://colab.research.google.com/assets/colab-badge.svg\" alt=\"Open In Colab\"/></a>"
      ]
    },
    {
      "cell_type": "markdown",
      "source": [
        "1. Setup"
      ],
      "metadata": {
        "id": "Kam7kjTnd8j8"
      }
    },
    {
      "cell_type": "code",
      "source": [
        "# Import necessary libraries\n",
        "import numpy as np\n",
        "import torch\n",
        "from sklearn.metrics import (\n",
        "    precision_score, recall_score, f1_score, matthews_corrcoef,\n",
        "    precision_recall_curve, auc, ConfusionMatrixDisplay\n",
        ")\n",
        "import matplotlib.pyplot as plt"
      ],
      "metadata": {
        "id": "ONVNvO-ieGI8"
      },
      "execution_count": null,
      "outputs": []
    },
    {
      "cell_type": "markdown",
      "source": [
        "2. Load Data"
      ],
      "metadata": {
        "id": "Y7AlrkVzeKCN"
      }
    },
    {
      "cell_type": "code",
      "source": [
        "# Load test data (update paths if necessary)\n",
        "X_tensor_test = torch.load('/content/drive/MyDrive/X_tensor_test.pt')\n",
        "y_tensor_test = torch.load('/content/drive/MyDrive/y_tensor_test.pt')\n",
        "\n",
        "# Create DataLoader for the test set\n",
        "from torch.utils.data import DataLoader, TensorDataset\n",
        "\n",
        "test_dataset = TensorDataset(X_tensor_test, y_tensor_test)\n",
        "test_loader = DataLoader(test_dataset, batch_size=32)  # Adjust batch size if needed\n"
      ],
      "metadata": {
        "id": "IeoQkxFXePpS"
      },
      "execution_count": null,
      "outputs": []
    },
    {
      "cell_type": "markdown",
      "source": [
        "3. Evaluation"
      ],
      "metadata": {
        "id": "G7OoCLRkeRv0"
      }
    },
    {
      "cell_type": "code",
      "source": [
        "# Function to evaluate the model and optimize the threshold\n",
        "def evaluate_model_with_threshold(model, test_loader):\n",
        "    \"\"\"\n",
        "    Evaluate the model, optimize the threshold, and visualize metrics.\n",
        "\n",
        "    Args:\n",
        "        model: Trained PyTorch model\n",
        "        test_loader: DataLoader for the test set\n",
        "\n",
        "    Displays:\n",
        "        - Optimal threshold\n",
        "        - Metrics: Precision, Recall, F1, PR-AUC\n",
        "        - Confusion Matrix\n",
        "        - Precision-Recall Curve\n",
        "    \"\"\"\n",
        "    model.eval()\n",
        "    all_labels, all_logits = [], []\n",
        "\n",
        "    # Generate predictions\n",
        "    with torch.no_grad():\n",
        "        for X_batch, y_batch in test_loader:\n",
        "            outputs = model(X_batch).squeeze()\n",
        "            all_logits.extend(outputs.tolist())\n",
        "            all_labels.extend(y_batch.tolist())\n",
        "\n",
        "    all_logits = np.array(all_logits)\n",
        "    all_labels = np.array(all_labels)\n",
        "\n",
        "    # Find the optimal threshold\n",
        "    best_mcc, best_threshold = -1, 0.5\n",
        "    for threshold in np.arange(0.1, 1, 0.01):\n",
        "        predictions = (torch.sigmoid(torch.tensor(all_logits)) > threshold).float().numpy()\n",
        "        mcc = matthews_corrcoef(all_labels, predictions)\n",
        "        if mcc > best_mcc:\n",
        "            best_mcc = mcc\n",
        "            best_threshold = threshold\n",
        "\n",
        "    # Final predictions\n",
        "    final_predictions = (torch.sigmoid(torch.tensor(all_logits)) > best_threshold).float().numpy()\n",
        "\n",
        "    # Calculate metrics\n",
        "    precision = precision_score(all_labels, final_predictions)\n",
        "    recall = recall_score(all_labels, final_predictions)\n",
        "    f1 = f1_score(all_labels, final_predictions)\n",
        "\n",
        "    # Compute precision-recall curve and AUC\n",
        "    precisions, recalls, _ = precision_recall_curve(all_labels, all_logits)\n",
        "    pr_auc = auc(recalls, precisions)\n",
        "\n",
        "    # Print metrics\n",
        "    print(f\"Optimal Threshold: {best_threshold:.2f}, Best MCC: {best_mcc:.2f}\")\n",
        "    print(f\"Precision: {precision:.2f}, Recall: {recall:.2f}, F1: {f1:.2f}, PR-AUC: {pr_auc:.2f}\")\n",
        "\n",
        "    # Display Confusion Matrix\n",
        "    ConfusionMatrixDisplay.from_predictions(all_labels, final_predictions)\n",
        "    plt.title(\"Confusion Matrix\")\n",
        "    plt.show()\n",
        "\n",
        "    # Plot Precision-Recall Curve\n",
        "    plt.plot(recalls, precisions, marker='.')\n",
        "    plt.title(\"Precision-Recall Curve\")\n",
        "    plt.xlabel(\"Recall\")\n",
        "    plt.ylabel(\"Precision\")\n",
        "    plt.show()\n"
      ],
      "metadata": {
        "id": "LNKtqT-feVsl"
      },
      "execution_count": null,
      "outputs": []
    }
  ]
}